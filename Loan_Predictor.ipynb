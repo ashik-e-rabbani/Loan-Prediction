{
  "nbformat": 4,
  "nbformat_minor": 0,
  "metadata": {
    "colab": {
      "name": "Loan Predictor.ipynb",
      "provenance": [],
      "collapsed_sections": [],
      "authorship_tag": "ABX9TyNwc4SLB0B2hqC3Lw3Z8SJN",
      "include_colab_link": true
    },
    "kernelspec": {
      "name": "python3",
      "display_name": "Python 3"
    }
  },
  "cells": [
    {
      "cell_type": "markdown",
      "metadata": {
        "id": "view-in-github",
        "colab_type": "text"
      },
      "source": [
        "<a href=\"https://colab.research.google.com/github/ashik-e-rabbani/Loan-Prediction-Using-Machine-Learning/blob/master/Loan_Predictor.ipynb\" target=\"_parent\"><img src=\"https://colab.research.google.com/assets/colab-badge.svg\" alt=\"Open In Colab\"/></a>"
      ]
    },
    {
      "cell_type": "markdown",
      "metadata": {
        "id": "zWXzFoIdieBT",
        "colab_type": "text"
      },
      "source": [
        "**Disclaimer:**\n",
        "In this project, default hyperparameter values are employed.\n",
        "More visualization can be done beyond what's executed in this post\n",
        "The training dataset provided is the focus because we are not making a submission to kaggle for scoring. Hence, we split the train into a validation set to get our evaluations estimated."
      ]
    },
    {
      "cell_type": "code",
      "metadata": {
        "id": "N1OYRI3gdZlH",
        "colab_type": "code",
        "colab": {
          "resources": {
            "http://localhost:8080/nbextensions/google.colab/files.js": {
              "data": "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",
              "ok": true,
              "headers": [
                [
                  "content-type",
                  "application/javascript"
                ]
              ],
              "status": 200,
              "status_text": ""
            }
          },
          "base_uri": "https://localhost:8080/",
          "height": 129
        },
        "outputId": "37a6f24a-c924-45e6-cdb2-d7310c8494c4"
      },
      "source": [
        "from google.colab import files\n",
        "trainUp = files.upload()\n",
        "testUp = files.upload()\n"
      ],
      "execution_count": 4,
      "outputs": [
        {
          "output_type": "display_data",
          "data": {
            "text/html": [
              "\n",
              "     <input type=\"file\" id=\"files-0d0c57d2-a2ff-4c50-887d-79509bab2a0b\" name=\"files[]\" multiple disabled />\n",
              "     <output id=\"result-0d0c57d2-a2ff-4c50-887d-79509bab2a0b\">\n",
              "      Upload widget is only available when the cell has been executed in the\n",
              "      current browser session. Please rerun this cell to enable.\n",
              "      </output>\n",
              "      <script src=\"/nbextensions/google.colab/files.js\"></script> "
            ],
            "text/plain": [
              "<IPython.core.display.HTML object>"
            ]
          },
          "metadata": {
            "tags": []
          }
        },
        {
          "output_type": "stream",
          "text": [
            "Saving train_u6lujuX_CVtuZ9i.csv to train_u6lujuX_CVtuZ9i.csv\n"
          ],
          "name": "stdout"
        },
        {
          "output_type": "display_data",
          "data": {
            "text/html": [
              "\n",
              "     <input type=\"file\" id=\"files-44abb15c-cc08-44ee-83f4-0ef50c1ba392\" name=\"files[]\" multiple disabled />\n",
              "     <output id=\"result-44abb15c-cc08-44ee-83f4-0ef50c1ba392\">\n",
              "      Upload widget is only available when the cell has been executed in the\n",
              "      current browser session. Please rerun this cell to enable.\n",
              "      </output>\n",
              "      <script src=\"/nbextensions/google.colab/files.js\"></script> "
            ],
            "text/plain": [
              "<IPython.core.display.HTML object>"
            ]
          },
          "metadata": {
            "tags": []
          }
        },
        {
          "output_type": "stream",
          "text": [
            "Saving test_Y3wMUE5_7gLdaTN.csv to test_Y3wMUE5_7gLdaTN.csv\n"
          ],
          "name": "stdout"
        }
      ]
    },
    {
      "cell_type": "code",
      "metadata": {
        "id": "zAcp4xD6ePZd",
        "colab_type": "code",
        "colab": {
          "base_uri": "https://localhost:8080/",
          "height": 53
        },
        "outputId": "5f6437a2-bcbe-436a-9e23-0ccd7575eaad"
      },
      "source": [
        "# Now! Let's get to work on the dataset (Data cleaning)\n",
        "import numpy as np\n",
        "import pandas as pd\n",
        "import matplotlib.pyplot as plt\n",
        "import seaborn as sns\n",
        "%matplotlib inline\n"
      ],
      "execution_count": 8,
      "outputs": [
        {
          "output_type": "stream",
          "text": [
            "{'train_u6lujuX_CVtuZ9i.csv': b'Loan_ID,Gender,Married,Dependents,Education,Self_Employed,ApplicantIncome,CoapplicantIncome,LoanAmount,Loan_Amount_Term,Credit_History,Property_Area,Loan_Status\\nLP001002,Male,No,0,Graduate,No,5849,0,,360,1,Urban,Y\\nLP001003,Male,Yes,1,Graduate,No,4583,1508,128,360,1,Rural,N\\nLP001005,Male,Yes,0,Graduate,Yes,3000,0,66,360,1,Urban,Y\\nLP001006,Male,Yes,0,Not Graduate,No,2583,2358,120,360,1,Urban,Y\\nLP001008,Male,No,0,Graduate,No,6000,0,141,360,1,Urban,Y\\nLP001011,Male,Yes,2,Graduate,Yes,5417,4196,267,360,1,Urban,Y\\nLP001013,Male,Yes,0,Not Graduate,No,2333,1516,95,360,1,Urban,Y\\nLP001014,Male,Yes,3+,Graduate,No,3036,2504,158,360,0,Semiurban,N\\nLP001018,Male,Yes,2,Graduate,No,4006,1526,168,360,1,Urban,Y\\nLP001020,Male,Yes,1,Graduate,No,12841,10968,349,360,1,Semiurban,N\\nLP001024,Male,Yes,2,Graduate,No,3200,700,70,360,1,Urban,Y\\nLP001027,Male,Yes,2,Graduate,,2500,1840,109,360,1,Urban,Y\\nLP001028,Male,Yes,2,Graduate,No,3073,8106,200,360,1,Urban,Y\\nLP001029,Male,No,0,Graduate,No,1853,2840,114,360,1,Rural,N\\nLP001030,Male,Yes,2,Graduate,No,1299,1086,17,120,1,Urban,Y\\nLP001032,Male,No,0,Graduate,No,4950,0,125,360,1,Urban,Y\\nLP001034,Male,No,1,Not Graduate,No,3596,0,100,240,,Urban,Y\\nLP001036,Female,No,0,Graduate,No,3510,0,76,360,0,Urban,N\\nLP001038,Male,Yes,0,Not Graduate,No,4887,0,133,360,1,Rural,N\\nLP001041,Male,Yes,0,Graduate,,2600,3500,115,,1,Urban,Y\\nLP001043,Male,Yes,0,Not Graduate,No,7660,0,104,360,0,Urban,N\\nLP001046,Male,Yes,1,Graduate,No,5955,5625,315,360,1,Urban,Y\\nLP001047,Male,Yes,0,Not Graduate,No,2600,1911,116,360,0,Semiurban,N\\nLP001050,,Yes,2,Not Graduate,No,3365,1917,112,360,0,Rural,N\\nLP001052,Male,Yes,1,Graduate,,3717,2925,151,360,,Semiurban,N\\nLP001066,Male,Yes,0,Graduate,Yes,9560,0,191,360,1,Semiurban,Y\\nLP001068,Male,Yes,0,Graduate,No,2799,2253,122,360,1,Semiurban,Y\\nLP001073,Male,Yes,2,Not Graduate,No,4226,1040,110,360,1,Urban,Y\\nLP001086,Male,No,0,Not Graduate,No,1442,0,35,360,1,Urban,N\\nLP001087,Female,No,2,Graduate,,3750,2083,120,360,1,Semiurban,Y\\nLP001091,Male,Yes,1,Graduate,,4166,3369,201,360,,Urban,N\\nLP001095,Male,No,0,Graduate,No,3167,0,74,360,1,Urban,N\\nLP001097,Male,No,1,Graduate,Yes,4692,0,106,360,1,Rural,N\\nLP001098,Male,Yes,0,Graduate,No,3500,1667,114,360,1,Semiurban,Y\\nLP001100,Male,No,3+,Graduate,No,12500,3000,320,360,1,Rural,N\\nLP001106,Male,Yes,0,Graduate,No,2275,2067,,360,1,Urban,Y\\nLP001109,Male,Yes,0,Graduate,No,1828,1330,100,,0,Urban,N\\nLP001112,Female,Yes,0,Graduate,No,3667,1459,144,360,1,Semiurban,Y\\nLP001114,Male,No,0,Graduate,No,4166,7210,184,360,1,Urban,Y\\nLP001116,Male,No,0,Not Graduate,No,3748,1668,110,360,1,Semiurban,Y\\nLP001119,Male,No,0,Graduate,No,3600,0,80,360,1,Urban,N\\nLP001120,Male,No,0,Graduate,No,1800,1213,47,360,1,Urban,Y\\nLP001123,Male,Yes,0,Graduate,No,2400,0,75,360,,Urban,Y\\nLP001131,Male,Yes,0,Graduate,No,3941,2336,134,360,1,Semiurban,Y\\nLP001136,Male,Yes,0,Not Graduate,Yes,4695,0,96,,1,Urban,Y\\nLP001137,Female,No,0,Graduate,No,3410,0,88,,1,Urban,Y\\nLP001138,Male,Yes,1,Graduate,No,5649,0,44,360,1,Urban,Y\\nLP001144,Male,Yes,0,Graduate,No,5821,0,144,360,1,Urban,Y\\nLP001146,Female,Yes,0,Graduate,No,2645,3440,120,360,0,Urban,N\\nLP001151,Female,No,0,Graduate,No,4000,2275,144,360,1,Semiurban,Y\\nLP001155,Female,Yes,0,Not Graduate,No,1928,1644,100,360,1,Semiurban,Y\\nLP001157,Female,No,0,Graduate,No,3086,0,120,360,1,Semiurban,Y\\nLP001164,Female,No,0,Graduate,No,4230,0,112,360,1,Semiurban,N\\nLP001179,Male,Yes,2,Graduate,No,4616,0,134,360,1,Urban,N\\nLP001186,Female,Yes,1,Graduate,Yes,11500,0,286,360,0,Urban,N\\nLP001194,Male,Yes,2,Graduate,No,2708,1167,97,360,1,Semiurban,Y\\nLP001195,Male,Yes,0,Graduate,No,2132,1591,96,360,1,Semiurban,Y\\nLP001197,Male,Yes,0,Graduate,No,3366,2200,135,360,1,Rural,N\\nLP001198,Male,Yes,1,Graduate,No,8080,2250,180,360,1,Urban,Y\\nLP001199,Male,Yes,2,Not Graduate,No,3357,2859,144,360,1,Urban,Y\\nLP001205,Male,Yes,0,Graduate,No,2500,3796,120,360,1,Urban,Y\\nLP001206,Male,Yes,3+,Graduate,No,3029,0,99,360,1,Urban,Y\\nLP001207,Male,Yes,0,Not Graduate,Yes,2609,3449,165,180,0,Rural,N\\nLP001213,Male,Yes,1,Graduate,No,4945,0,,360,0,Rural,N\\nLP001222,Female,No,0,Graduate,No,4166,0,116,360,0,Semiurban,N\\nLP001225,Male,Yes,0,Graduate,No,5726,4595,258,360,1,Semiurban,N\\nLP001228,Male,No,0,Not Graduate,No,3200,2254,126,180,0,Urban,N\\nLP001233,Male,Yes,1,Graduate,No,10750,0,312,360,1,Urban,Y\\nLP001238,Male,Yes,3+,Not Graduate,Yes,7100,0,125,60,1,Urban,Y\\nLP001241,Female,No,0,Graduate,No,4300,0,136,360,0,Semiurban,N\\nLP001243,Male,Yes,0,Graduate,No,3208,3066,172,360,1,Urban,Y\\nLP001245,Male,Yes,2,Not Graduate,Yes,1875,1875,97,360,1,Semiurban,Y\\nLP001248,Male,No,0,Graduate,No,3500,0,81,300,1,Semiurban,Y\\nLP001250,Male,Yes,3+,Not Graduate,No,4755,0,95,,0,Semiurban,N\\nLP001253,Male,Yes,3+,Graduate,Yes,5266,1774,187,360,1,Semiurban,Y\\nLP001255,Male,No,0,Graduate,No,3750,0,113,480,1,Urban,N\\nLP001256,Male,No,0,Graduate,No,3750,4750,176,360,1,Urban,N\\nLP001259,Male,Yes,1,Graduate,Yes,1000,3022,110,360,1,Urban,N\\nLP001263,Male,Yes,3+,Graduate,No,3167,4000,180,300,0,Semiurban,N\\nLP001264,Male,Yes,3+,Not Graduate,Yes,3333,2166,130,360,,Semiurban,Y\\nLP001265,Female,No,0,Graduate,No,3846,0,111,360,1,Semiurban,Y\\nLP001266,Male,Yes,1,Graduate,Yes,2395,0,,360,1,Semiurban,Y\\nLP001267,Female,Yes,2,Graduate,No,1378,1881,167,360,1,Urban,N\\nLP001273,Male,Yes,0,Graduate,No,6000,2250,265,360,,Semiurban,N\\nLP001275,Male,Yes,1,Graduate,No,3988,0,50,240,1,Urban,Y\\nLP001279,Male,No,0,Graduate,No,2366,2531,136,360,1,Semiurban,Y\\nLP001280,Male,Yes,2,Not Graduate,No,3333,2000,99,360,,Semiurban,Y\\nLP001282,Male,Yes,0,Graduate,No,2500,2118,104,360,1,Semiurban,Y\\nLP001289,Male,No,0,Graduate,No,8566,0,210,360,1,Urban,Y\\nLP001310,Male,Yes,0,Graduate,No,5695,4167,175,360,1,Semiurban,Y\\nLP001316,Male,Yes,0,Graduate,No,2958,2900,131,360,1,Semiurban,Y\\nLP001318,Male,Yes,2,Graduate,No,6250,5654,188,180,1,Semiurban,Y\\nLP001319,Male,Yes,2,Not Graduate,No,3273,1820,81,360,1,Urban,Y\\nLP001322,Male,No,0,Graduate,No,4133,0,122,360,1,Semiurban,Y\\nLP001325,Male,No,0,Not Graduate,No,3620,0,25,120,1,Semiurban,Y\\nLP001326,Male,No,0,Graduate,,6782,0,,360,,Urban,N\\nLP001327,Female,Yes,0,Graduate,No,2484,2302,137,360,1,Semiurban,Y\\nLP001333,Male,Yes,0,Graduate,No,1977,997,50,360,1,Semiurban,Y\\nLP001334,Male,Yes,0,Not Graduate,No,4188,0,115,180,1,Semiurban,Y\\nLP001343,Male,Yes,0,Graduate,No,1759,3541,131,360,1,Semiurban,Y\\nLP001345,Male,Yes,2,Not Graduate,No,4288,3263,133,180,1,Urban,Y\\nLP001349,Male,No,0,Graduate,No,4843,3806,151,360,1,Semiurban,Y\\nLP001350,Male,Yes,,Graduate,No,13650,0,,360,1,Urban,Y\\nLP001356,Male,Yes,0,Graduate,No,4652,3583,,360,1,Semiurban,Y\\nLP001357,Male,,,Graduate,No,3816,754,160,360,1,Urban,Y\\nLP001367,Male,Yes,1,Graduate,No,3052,1030,100,360,1,Urban,Y\\nLP001369,Male,Yes,2,Graduate,No,11417,1126,225,360,1,Urban,Y\\nLP001370,Male,No,0,Not Graduate,,7333,0,120,360,1,Rural,N\\nLP001379,Male,Yes,2,Graduate,No,3800,3600,216,360,0,Urban,N\\nLP001384,Male,Yes,3+,Not Graduate,No,2071,754,94,480,1,Semiurban,Y\\nLP001385,Male,No,0,Graduate,No,5316,0,136,360,1,Urban,Y\\nLP001387,Female,Yes,0,Graduate,,2929,2333,139,360,1,Semiurban,Y\\nLP001391,Male,Yes,0,Not Graduate,No,3572,4114,152,,0,Rural,N\\nLP001392,Female,No,1,Graduate,Yes,7451,0,,360,1,Semiurban,Y\\nLP001398,Male,No,0,Graduate,,5050,0,118,360,1,Semiurban,Y\\nLP001401,Male,Yes,1,Graduate,No,14583,0,185,180,1,Rural,Y\\nLP001404,Female,Yes,0,Graduate,No,3167,2283,154,360,1,Semiurban,Y\\nLP001405,Male,Yes,1,Graduate,No,2214,1398,85,360,,Urban,Y\\nLP001421,Male,Yes,0,Graduate,No,5568,2142,175,360,1,Rural,N\\nLP001422,Female,No,0,Graduate,No,10408,0,259,360,1,Urban,Y\\nLP001426,Male,Yes,,Graduate,No,5667,2667,180,360,1,Rural,Y\\nLP001430,Female,No,0,Graduate,No,4166,0,44,360,1,Semiurban,Y\\nLP001431,Female,No,0,Graduate,No,2137,8980,137,360,0,Semiurban,Y\\nLP001432,Male,Yes,2,Graduate,No,2957,0,81,360,1,Semiurban,Y\\nLP001439,Male,Yes,0,Not Graduate,No,4300,2014,194,360,1,Rural,Y\\nLP001443,Female,No,0,Graduate,No,3692,0,93,360,,Rural,Y\\nLP001448,,Yes,3+,Graduate,No,23803,0,370,360,1,Rural,Y\\nLP001449,Male,No,0,Graduate,No,3865,1640,,360,1,Rural,Y\\nLP001451,Male,Yes,1,Graduate,Yes,10513,3850,160,180,0,Urban,N\\nLP001465,Male,Yes,0,Graduate,No,6080,2569,182,360,,Rural,N\\nLP001469,Male,No,0,Graduate,Yes,20166,0,650,480,,Urban,Y\\nLP001473,Male,No,0,Graduate,No,2014,1929,74,360,1,Urban,Y\\nLP001478,Male,No,0,Graduate,No,2718,0,70,360,1,Semiurban,Y\\nLP001482,Male,Yes,0,Graduate,Yes,3459,0,25,120,1,Semiurban,Y\\nLP001487,Male,No,0,Graduate,No,4895,0,102,360,1,Semiurban,Y\\nLP001488,Male,Yes,3+,Graduate,No,4000,7750,290,360,1,Semiurban,N\\nLP001489,Female,Yes,0,Graduate,No,4583,0,84,360,1,Rural,N\\nLP001491,Male,Yes,2,Graduate,Yes,3316,3500,88,360,1,Urban,Y\\nLP001492,Male,No,0,Graduate,No,14999,0,242,360,0,Semiurban,N\\nLP001493,Male,Yes,2,Not Graduate,No,4200,1430,129,360,1,Rural,N\\nLP001497,Male,Yes,2,Graduate,No,5042,2083,185,360,1,Rural,N\\nLP001498,Male,No,0,Graduate,No,5417,0,168,360,1,Urban,Y\\nLP001504,Male,No,0,Graduate,Yes,6950,0,175,180,1,Semiurban,Y\\nLP001507,Male,Yes,0,Graduate,No,2698,2034,122,360,1,Semiurban,Y\\nLP001508,Male,Yes,2,Graduate,No,11757,0,187,180,1,Urban,Y\\nLP001514,Female,Yes,0,Graduate,No,2330,4486,100,360,1,Semiurban,Y\\nLP001516,Female,Yes,2,Graduate,No,14866,0,70,360,1,Urban,Y\\nLP001518,Male,Yes,1,Graduate,No,1538,1425,30,360,1,Urban,Y\\nLP001519,Female,No,0,Graduate,No,10000,1666,225,360,1,Rural,N\\nLP001520,Male,Yes,0,Graduate,No,4860,830,125,360,1,Semiurban,Y\\nLP001528,Male,No,0,Graduate,No,6277,0,118,360,0,Rural,N\\nLP001529,Male,Yes,0,Graduate,Yes,2577,3750,152,360,1,Rural,Y\\nLP001531,Male,No,0,Graduate,No,9166,0,244,360,1,Urban,N\\nLP001532,Male,Yes,2,Not Graduate,No,2281,0,113,360,1,Rural,N\\nLP001535,Male,No,0,Graduate,No,3254,0,50,360,1,Urban,Y\\nLP001536,Male,Yes,3+,Graduate,No,39999,0,600,180,0,Semiurban,Y\\nLP001541,Male,Yes,1,Graduate,No,6000,0,160,360,,Rural,Y\\nLP001543,Male,Yes,1,Graduate,No,9538,0,187,360,1,Urban,Y\\nLP001546,Male,No,0,Graduate,,2980,2083,120,360,1,Rural,Y\\nLP001552,Male,Yes,0,Graduate,No,4583,5625,255,360,1,Semiurban,Y\\nLP001560,Male,Yes,0,Not Graduate,No,1863,1041,98,360,1,Semiurban,Y\\nLP001562,Male,Yes,0,Graduate,No,7933,0,275,360,1,Urban,N\\nLP001565,Male,Yes,1,Graduate,No,3089,1280,121,360,0,Semiurban,N\\nLP001570,Male,Yes,2,Graduate,No,4167,1447,158,360,1,Rural,Y\\nLP001572,Male,Yes,0,Graduate,No,9323,0,75,180,1,Urban,Y\\nLP001574,Male,Yes,0,Graduate,No,3707,3166,182,,1,Rural,Y\\nLP001577,Female,Yes,0,Graduate,No,4583,0,112,360,1,Rural,N\\nLP001578,Male,Yes,0,Graduate,No,2439,3333,129,360,1,Rural,Y\\nLP001579,Male,No,0,Graduate,No,2237,0,63,480,0,Semiurban,N\\nLP001580,Male,Yes,2,Graduate,No,8000,0,200,360,1,Semiurban,Y\\nLP001581,Male,Yes,0,Not Graduate,,1820,1769,95,360,1,Rural,Y\\nLP001585,,Yes,3+,Graduate,No,51763,0,700,300,1,Urban,Y\\nLP001586,Male,Yes,3+,Not Graduate,No,3522,0,81,180,1,Rural,N\\nLP001594,Male,Yes,0,Graduate,No,5708,5625,187,360,1,Semiurban,Y\\nLP001603,Male,Yes,0,Not Graduate,Yes,4344,736,87,360,1,Semiurban,N\\nLP001606,Male,Yes,0,Graduate,No,3497,1964,116,360,1,Rural,Y\\nLP001608,Male,Yes,2,Graduate,No,2045,1619,101,360,1,Rural,Y\\nLP001610,Male,Yes,3+,Graduate,No,5516,11300,495,360,0,Semiurban,N\\nLP001616,Male,Yes,1,Graduate,No,3750,0,116,360,1,Semiurban,Y\\nLP001630,Male,No,0,Not Graduate,No,2333,1451,102,480,0,Urban,N\\nLP001633,Male,Yes,1,Graduate,No,6400,7250,180,360,0,Urban,N\\nLP001634,Male,No,0,Graduate,No,1916,5063,67,360,,Rural,N\\nLP001636,Male,Yes,0,Graduate,No,4600,0,73,180,1,Semiurban,Y\\nLP001637,Male,Yes,1,Graduate,No,33846,0,260,360,1,Semiurban,N\\nLP001639,Female,Yes,0,Graduate,No,3625,0,108,360,1,Semiurban,Y\\nLP001640,Male,Yes,0,Graduate,Yes,39147,4750,120,360,1,Semiurban,Y\\nLP001641,Male,Yes,1,Graduate,Yes,2178,0,66,300,0,Rural,N\\nLP001643,Male,Yes,0,Graduate,No,2383,2138,58,360,,Rural,Y\\nLP001644,,Yes,0,Graduate,Yes,674,5296,168,360,1,Rural,Y\\nLP001647,Male,Yes,0,Graduate,No,9328,0,188,180,1,Rural,Y\\nLP001653,Male,No,0,Not Graduate,No,4885,0,48,360,1,Rural,Y\\nLP001656,Male,No,0,Graduate,No,12000,0,164,360,1,Semiurban,N\\nLP001657,Male,Yes,0,Not Graduate,No,6033,0,160,360,1,Urban,N\\nLP001658,Male,No,0,Graduate,No,3858,0,76,360,1,Semiurban,Y\\nLP001664,Male,No,0,Graduate,No,4191,0,120,360,1,Rural,Y\\nLP001665,Male,Yes,1,Graduate,No,3125,2583,170,360,1,Semiurban,N\\nLP001666,Male,No,0,Graduate,No,8333,3750,187,360,1,Rural,Y\\nLP001669,Female,No,0,Not Graduate,No,1907,2365,120,,1,Urban,Y\\nLP001671,Female,Yes,0,Graduate,No,3416,2816,113,360,,Semiurban,Y\\nLP001673,Male,No,0,Graduate,Yes,11000,0,83,360,1,Urban,N\\nLP001674,Male,Yes,1,Not Graduate,No,2600,2500,90,360,1,Semiurban,Y\\nLP001677,Male,No,2,Graduate,No,4923,0,166,360,0,Semiurban,Y\\nLP001682,Male,Yes,3+,Not Graduate,No,3992,0,,180,1,Urban,N\\nLP001688,Male,Yes,1,Not Graduate,No,3500,1083,135,360,1,Urban,Y\\nLP001691,Male,Yes,2,Not Graduate,No,3917,0,124,360,1,Semiurban,Y\\nLP001692,Female,No,0,Not Graduate,No,4408,0,120,360,1,Semiurban,Y\\nLP001693,Female,No,0,Graduate,No,3244,0,80,360,1,Urban,Y\\nLP001698,Male,No,0,Not Graduate,No,3975,2531,55,360,1,Rural,Y\\nLP001699,Male,No,0,Graduate,No,2479,0,59,360,1,Urban,Y\\nLP001702,Male,No,0,Graduate,No,3418,0,127,360,1,Semiurban,N\\nLP001708,Female,No,0,Graduate,No,10000,0,214,360,1,Semiurban,N\\nLP001711,Male,Yes,3+,Graduate,No,3430,1250,128,360,0,Semiurban,N\\nLP001713,Male,Yes,1,Graduate,Yes,7787,0,240,360,1,Urban,Y\\nLP001715,Male,Yes,3+,Not Graduate,Yes,5703,0,130,360,1,Rural,Y\\nLP001716,Male,Yes,0,Graduate,No,3173,3021,137,360,1,Urban,Y\\nLP001720,Male,Yes,3+,Not Graduate,No,3850,983,100,360,1,Semiurban,Y\\nLP001722,Male,Yes,0,Graduate,No,150,1800,135,360,1,Rural,N\\nLP001726,Male,Yes,0,Graduate,No,3727,1775,131,360,1,Semiurban,Y\\nLP001732,Male,Yes,2,Graduate,,5000,0,72,360,0,Semiurban,N\\nLP001734,Female,Yes,2,Graduate,No,4283,2383,127,360,,Semiurban,Y\\nLP001736,Male,Yes,0,Graduate,No,2221,0,60,360,0,Urban,N\\nLP001743,Male,Yes,2,Graduate,No,4009,1717,116,360,1,Semiurban,Y\\nLP001744,Male,No,0,Graduate,No,2971,2791,144,360,1,Semiurban,Y\\nLP001749,Male,Yes,0,Graduate,No,7578,1010,175,,1,Semiurban,Y\\nLP001750,Male,Yes,0,Graduate,No,6250,0,128,360,1,Semiurban,Y\\nLP001751,Male,Yes,0,Graduate,No,3250,0,170,360,1,Rural,N\\nLP001754,Male,Yes,,Not Graduate,Yes,4735,0,138,360,1,Urban,N\\nLP001758,Male,Yes,2,Graduate,No,6250,1695,210,360,1,Semiurban,Y\\nLP001760,Male,,,Graduate,No,4758,0,158,480,1,Semiurban,Y\\nLP001761,Male,No,0,Graduate,Yes,6400,0,200,360,1,Rural,Y\\nLP001765,Male,Yes,1,Graduate,No,2491,2054,104,360,1,Semiurban,Y\\nLP001768,Male,Yes,0,Graduate,,3716,0,42,180,1,Rural,Y\\nLP001770,Male,No,0,Not Graduate,No,3189,2598,120,,1,Rural,Y\\nLP001776,Female,No,0,Graduate,No,8333,0,280,360,1,Semiurban,Y\\nLP001778,Male,Yes,1,Graduate,No,3155,1779,140,360,1,Semiurban,Y\\nLP001784,Male,Yes,1,Graduate,No,5500,1260,170,360,1,Rural,Y\\nLP001786,Male,Yes,0,Graduate,,5746,0,255,360,,Urban,N\\nLP001788,Female,No,0,Graduate,Yes,3463,0,122,360,,Urban,Y\\nLP001790,Female,No,1,Graduate,No,3812,0,112,360,1,Rural,Y\\nLP001792,Male,Yes,1,Graduate,No,3315,0,96,360,1,Semiurban,Y\\nLP001798,Male,Yes,2,Graduate,No,5819,5000,120,360,1,Rural,Y\\nLP001800,Male,Yes,1,Not Graduate,No,2510,1983,140,180,1,Urban,N\\nLP001806,Male,No,0,Graduate,No,2965,5701,155,60,1,Urban,Y\\nLP001807,Male,Yes,2,Graduate,Yes,6250,1300,108,360,1,Rural,Y\\nLP001811,Male,Yes,0,Not Graduate,No,3406,4417,123,360,1,Semiurban,Y\\nLP001813,Male,No,0,Graduate,Yes,6050,4333,120,180,1,Urban,N\\nLP001814,Male,Yes,2,Graduate,No,9703,0,112,360,1,Urban,Y\\nLP001819,Male,Yes,1,Not Graduate,No,6608,0,137,180,1,Urban,Y\\nLP001824,Male,Yes,1,Graduate,No,2882,1843,123,480,1,Semiurban,Y\\nLP001825,Male,Yes,0,Graduate,No,1809,1868,90,360,1,Urban,Y\\nLP001835,Male,Yes,0,Not Graduate,No,1668,3890,201,360,0,Semiurban,N\\nLP001836,Female,No,2,Graduate,No,3427,0,138,360,1,Urban,N\\nLP001841,Male,No,0,Not Graduate,Yes,2583,2167,104,360,1,Rural,Y\\nLP001843,Male,Yes,1,Not Graduate,No,2661,7101,279,180,1,Semiurban,Y\\nLP001844,Male,No,0,Graduate,Yes,16250,0,192,360,0,Urban,N\\nLP001846,Female,No,3+,Graduate,No,3083,0,255,360,1,Rural,Y\\nLP001849,Male,No,0,Not Graduate,No,6045,0,115,360,0,Rural,N\\nLP001854,Male,Yes,3+,Graduate,No,5250,0,94,360,1,Urban,N\\nLP001859,Male,Yes,0,Graduate,No,14683,2100,304,360,1,Rural,N\\nLP001864,Male,Yes,3+,Not Graduate,No,4931,0,128,360,,Semiurban,N\\nLP001865,Male,Yes,1,Graduate,No,6083,4250,330,360,,Urban,Y\\nLP001868,Male,No,0,Graduate,No,2060,2209,134,360,1,Semiurban,Y\\nLP001870,Female,No,1,Graduate,No,3481,0,155,36,1,Semiurban,N\\nLP001871,Female,No,0,Graduate,No,7200,0,120,360,1,Rural,Y\\nLP001872,Male,No,0,Graduate,Yes,5166,0,128,360,1,Semiurban,Y\\nLP001875,Male,No,0,Graduate,No,4095,3447,151,360,1,Rural,Y\\nLP001877,Male,Yes,2,Graduate,No,4708,1387,150,360,1,Semiurban,Y\\nLP001882,Male,Yes,3+,Graduate,No,4333,1811,160,360,0,Urban,Y\\nLP001883,Female,No,0,Graduate,,3418,0,135,360,1,Rural,N\\nLP001884,Female,No,1,Graduate,No,2876,1560,90,360,1,Urban,Y\\nLP001888,Female,No,0,Graduate,No,3237,0,30,360,1,Urban,Y\\nLP001891,Male,Yes,0,Graduate,No,11146,0,136,360,1,Urban,Y\\nLP001892,Male,No,0,Graduate,No,2833,1857,126,360,1,Rural,Y\\nLP001894,Male,Yes,0,Graduate,No,2620,2223,150,360,1,Semiurban,Y\\nLP001896,Male,Yes,2,Graduate,No,3900,0,90,360,1,Semiurban,Y\\nLP001900,Male,Yes,1,Graduate,No,2750,1842,115,360,1,Semiurban,Y\\nLP001903,Male,Yes,0,Graduate,No,3993,3274,207,360,1,Semiurban,Y\\nLP001904,Male,Yes,0,Graduate,No,3103,1300,80,360,1,Urban,Y\\nLP001907,Male,Yes,0,Graduate,No,14583,0,436,360,1,Semiurban,Y\\nLP001908,Female,Yes,0,Not Graduate,No,4100,0,124,360,,Rural,Y\\nLP001910,Male,No,1,Not Graduate,Yes,4053,2426,158,360,0,Urban,N\\nLP001914,Male,Yes,0,Graduate,No,3927,800,112,360,1,Semiurban,Y\\nLP001915,Male,Yes,2,Graduate,No,2301,985.7999878,78,180,1,Urban,Y\\nLP001917,Female,No,0,Graduate,No,1811,1666,54,360,1,Urban,Y\\nLP001922,Male,Yes,0,Graduate,No,20667,0,,360,1,Rural,N\\nLP001924,Male,No,0,Graduate,No,3158,3053,89,360,1,Rural,Y\\nLP001925,Female,No,0,Graduate,Yes,2600,1717,99,300,1,Semiurban,N\\nLP001926,Male,Yes,0,Graduate,No,3704,2000,120,360,1,Rural,Y\\nLP001931,Female,No,0,Graduate,No,4124,0,115,360,1,Semiurban,Y\\nLP001935,Male,No,0,Graduate,No,9508,0,187,360,1,Rural,Y\\nLP001936,Male,Yes,0,Graduate,No,3075,2416,139,360,1,Rural,Y\\nLP001938,Male,Yes,2,Graduate,No,4400,0,127,360,0,Semiurban,N\\nLP001940,Male,Yes,2,Graduate,No,3153,1560,134,360,1,Urban,Y\\nLP001945,Female,No,,Graduate,No,5417,0,143,480,0,Urban,N\\nLP001947,Male,Yes,0,Graduate,No,2383,3334,172,360,1,Semiurban,Y\\nLP001949,Male,Yes,3+,Graduate,,4416,1250,110,360,1,Urban,Y\\nLP001953,Male,Yes,1,Graduate,No,6875,0,200,360,1,Semiurban,Y\\nLP001954,Female,Yes,1,Graduate,No,4666,0,135,360,1,Urban,Y\\nLP001955,Female,No,0,Graduate,No,5000,2541,151,480,1,Rural,N\\nLP001963,Male,Yes,1,Graduate,No,2014,2925,113,360,1,Urban,N\\nLP001964,Male,Yes,0,Not Graduate,No,1800,2934,93,360,0,Urban,N\\nLP001972,Male,Yes,,Not Graduate,No,2875,1750,105,360,1,Semiurban,Y\\nLP001974,Female,No,0,Graduate,No,5000,0,132,360,1,Rural,Y\\nLP001977,Male,Yes,1,Graduate,No,1625,1803,96,360,1,Urban,Y\\nLP001978,Male,No,0,Graduate,No,4000,2500,140,360,1,Rural,Y\\nLP001990,Male,No,0,Not Graduate,No,2000,0,,360,1,Urban,N\\nLP001993,Female,No,0,Graduate,No,3762,1666,135,360,1,Rural,Y\\nLP001994,Female,No,0,Graduate,No,2400,1863,104,360,0,Urban,N\\nLP001996,Male,No,0,Graduate,No,20233,0,480,360,1,Rural,N\\nLP001998,Male,Yes,2,Not Graduate,No,7667,0,185,360,,Rural,Y\\nLP002002,Female,No,0,Graduate,No,2917,0,84,360,1,Semiurban,Y\\nLP002004,Male,No,0,Not Graduate,No,2927,2405,111,360,1,Semiurban,Y\\nLP002006,Female,No,0,Graduate,No,2507,0,56,360,1,Rural,Y\\nLP002008,Male,Yes,2,Graduate,Yes,5746,0,144,84,,Rural,Y\\nLP002024,,Yes,0,Graduate,No,2473,1843,159,360,1,Rural,N\\nLP002031,Male,Yes,1,Not Graduate,No,3399,1640,111,180,1,Urban,Y\\nLP002035,Male,Yes,2,Graduate,No,3717,0,120,360,1,Semiurban,Y\\nLP002036,Male,Yes,0,Graduate,No,2058,2134,88,360,,Urban,Y\\nLP002043,Female,No,1,Graduate,No,3541,0,112,360,,Semiurban,Y\\nLP002050,Male,Yes,1,Graduate,Yes,10000,0,155,360,1,Rural,N\\nLP002051,Male,Yes,0,Graduate,No,2400,2167,115,360,1,Semiurban,Y\\nLP002053,Male,Yes,3+,Graduate,No,4342,189,124,360,1,Semiurban,Y\\nLP002054,Male,Yes,2,Not Graduate,No,3601,1590,,360,1,Rural,Y\\nLP002055,Female,No,0,Graduate,No,3166,2985,132,360,,Rural,Y\\nLP002065,Male,Yes,3+,Graduate,No,15000,0,300,360,1,Rural,Y\\nLP002067,Male,Yes,1,Graduate,Yes,8666,4983,376,360,0,Rural,N\\nLP002068,Male,No,0,Graduate,No,4917,0,130,360,0,Rural,Y\\nLP002082,Male,Yes,0,Graduate,Yes,5818,2160,184,360,1,Semiurban,Y\\nLP002086,Female,Yes,0,Graduate,No,4333,2451,110,360,1,Urban,N\\nLP002087,Female,No,0,Graduate,No,2500,0,67,360,1,Urban,Y\\nLP002097,Male,No,1,Graduate,No,4384,1793,117,360,1,Urban,Y\\nLP002098,Male,No,0,Graduate,No,2935,0,98,360,1,Semiurban,Y\\nLP002100,Male,No,,Graduate,No,2833,0,71,360,1,Urban,Y\\nLP002101,Male,Yes,0,Graduate,,63337,0,490,180,1,Urban,Y\\nLP002103,,Yes,1,Graduate,Yes,9833,1833,182,180,1,Urban,Y\\nLP002106,Male,Yes,,Graduate,Yes,5503,4490,70,,1,Semiurban,Y\\nLP002110,Male,Yes,1,Graduate,,5250,688,160,360,1,Rural,Y\\nLP002112,Male,Yes,2,Graduate,Yes,2500,4600,176,360,1,Rural,Y\\nLP002113,Female,No,3+,Not Graduate,No,1830,0,,360,0,Urban,N\\nLP002114,Female,No,0,Graduate,No,4160,0,71,360,1,Semiurban,Y\\nLP002115,Male,Yes,3+,Not Graduate,No,2647,1587,173,360,1,Rural,N\\nLP002116,Female,No,0,Graduate,No,2378,0,46,360,1,Rural,N\\nLP002119,Male,Yes,1,Not Graduate,No,4554,1229,158,360,1,Urban,Y\\nLP002126,Male,Yes,3+,Not Graduate,No,3173,0,74,360,1,Semiurban,Y\\nLP002128,Male,Yes,2,Graduate,,2583,2330,125,360,1,Rural,Y\\nLP002129,Male,Yes,0,Graduate,No,2499,2458,160,360,1,Semiurban,Y\\nLP002130,Male,Yes,,Not Graduate,No,3523,3230,152,360,0,Rural,N\\nLP002131,Male,Yes,2,Not Graduate,No,3083,2168,126,360,1,Urban,Y\\nLP002137,Male,Yes,0,Graduate,No,6333,4583,259,360,,Semiurban,Y\\nLP002138,Male,Yes,0,Graduate,No,2625,6250,187,360,1,Rural,Y\\nLP002139,Male,Yes,0,Graduate,No,9083,0,228,360,1,Semiurban,Y\\nLP002140,Male,No,0,Graduate,No,8750,4167,308,360,1,Rural,N\\nLP002141,Male,Yes,3+,Graduate,No,2666,2083,95,360,1,Rural,Y\\nLP002142,Female,Yes,0,Graduate,Yes,5500,0,105,360,0,Rural,N\\nLP002143,Female,Yes,0,Graduate,No,2423,505,130,360,1,Semiurban,Y\\nLP002144,Female,No,,Graduate,No,3813,0,116,180,1,Urban,Y\\nLP002149,Male,Yes,2,Graduate,No,8333,3167,165,360,1,Rural,Y\\nLP002151,Male,Yes,1,Graduate,No,3875,0,67,360,1,Urban,N\\nLP002158,Male,Yes,0,Not Graduate,No,3000,1666,100,480,0,Urban,N\\nLP002160,Male,Yes,3+,Graduate,No,5167,3167,200,360,1,Semiurban,Y\\nLP002161,Female,No,1,Graduate,No,4723,0,81,360,1,Semiurban,N\\nLP002170,Male,Yes,2,Graduate,No,5000,3667,236,360,1,Semiurban,Y\\nLP002175,Male,Yes,0,Graduate,No,4750,2333,130,360,1,Urban,Y\\nLP002178,Male,Yes,0,Graduate,No,3013,3033,95,300,,Urban,Y\\nLP002180,Male,No,0,Graduate,Yes,6822,0,141,360,1,Rural,Y\\nLP002181,Male,No,0,Not Graduate,No,6216,0,133,360,1,Rural,N\\nLP002187,Male,No,0,Graduate,No,2500,0,96,480,1,Semiurban,N\\nLP002188,Male,No,0,Graduate,No,5124,0,124,,0,Rural,N\\nLP002190,Male,Yes,1,Graduate,No,6325,0,175,360,1,Semiurban,Y\\nLP002191,Male,Yes,0,Graduate,No,19730,5266,570,360,1,Rural,N\\nLP002194,Female,No,0,Graduate,Yes,15759,0,55,360,1,Semiurban,Y\\nLP002197,Male,Yes,2,Graduate,No,5185,0,155,360,1,Semiurban,Y\\nLP002201,Male,Yes,2,Graduate,Yes,9323,7873,380,300,1,Rural,Y\\nLP002205,Male,No,1,Graduate,No,3062,1987,111,180,0,Urban,N\\nLP002209,Female,No,0,Graduate,,2764,1459,110,360,1,Urban,Y\\nLP002211,Male,Yes,0,Graduate,No,4817,923,120,180,1,Urban,Y\\nLP002219,Male,Yes,3+,Graduate,No,8750,4996,130,360,1,Rural,Y\\nLP002223,Male,Yes,0,Graduate,No,4310,0,130,360,,Semiurban,Y\\nLP002224,Male,No,0,Graduate,No,3069,0,71,480,1,Urban,N\\nLP002225,Male,Yes,2,Graduate,No,5391,0,130,360,1,Urban,Y\\nLP002226,Male,Yes,0,Graduate,,3333,2500,128,360,1,Semiurban,Y\\nLP002229,Male,No,0,Graduate,No,5941,4232,296,360,1,Semiurban,Y\\nLP002231,Female,No,0,Graduate,No,6000,0,156,360,1,Urban,Y\\nLP002234,Male,No,0,Graduate,Yes,7167,0,128,360,1,Urban,Y\\nLP002236,Male,Yes,2,Graduate,No,4566,0,100,360,1,Urban,N\\nLP002237,Male,No,1,Graduate,,3667,0,113,180,1,Urban,Y\\nLP002239,Male,No,0,Not Graduate,No,2346,1600,132,360,1,Semiurban,Y\\nLP002243,Male,Yes,0,Not Graduate,No,3010,3136,,360,0,Urban,N\\nLP002244,Male,Yes,0,Graduate,No,2333,2417,136,360,1,Urban,Y\\nLP002250,Male,Yes,0,Graduate,No,5488,0,125,360,1,Rural,Y\\nLP002255,Male,No,3+,Graduate,No,9167,0,185,360,1,Rural,Y\\nLP002262,Male,Yes,3+,Graduate,No,9504,0,275,360,1,Rural,Y\\nLP002263,Male,Yes,0,Graduate,No,2583,2115,120,360,,Urban,Y\\nLP002265,Male,Yes,2,Not Graduate,No,1993,1625,113,180,1,Semiurban,Y\\nLP002266,Male,Yes,2,Graduate,No,3100,1400,113,360,1,Urban,Y\\nLP002272,Male,Yes,2,Graduate,No,3276,484,135,360,,Semiurban,Y\\nLP002277,Female,No,0,Graduate,No,3180,0,71,360,0,Urban,N\\nLP002281,Male,Yes,0,Graduate,No,3033,1459,95,360,1,Urban,Y\\nLP002284,Male,No,0,Not Graduate,No,3902,1666,109,360,1,Rural,Y\\nLP002287,Female,No,0,Graduate,No,1500,1800,103,360,0,Semiurban,N\\nLP002288,Male,Yes,2,Not Graduate,No,2889,0,45,180,0,Urban,N\\nLP002296,Male,No,0,Not Graduate,No,2755,0,65,300,1,Rural,N\\nLP002297,Male,No,0,Graduate,No,2500,20000,103,360,1,Semiurban,Y\\nLP002300,Female,No,0,Not Graduate,No,1963,0,53,360,1,Semiurban,Y\\nLP002301,Female,No,0,Graduate,Yes,7441,0,194,360,1,Rural,N\\nLP002305,Female,No,0,Graduate,No,4547,0,115,360,1,Semiurban,Y\\nLP002308,Male,Yes,0,Not Graduate,No,2167,2400,115,360,1,Urban,Y\\nLP002314,Female,No,0,Not Graduate,No,2213,0,66,360,1,Rural,Y\\nLP002315,Male,Yes,1,Graduate,No,8300,0,152,300,0,Semiurban,N\\nLP002317,Male,Yes,3+,Graduate,No,81000,0,360,360,0,Rural,N\\nLP002318,Female,No,1,Not Graduate,Yes,3867,0,62,360,1,Semiurban,N\\nLP002319,Male,Yes,0,Graduate,,6256,0,160,360,,Urban,Y\\nLP002328,Male,Yes,0,Not Graduate,No,6096,0,218,360,0,Rural,N\\nLP002332,Male,Yes,0,Not Graduate,No,2253,2033,110,360,1,Rural,Y\\nLP002335,Female,Yes,0,Not Graduate,No,2149,3237,178,360,0,Semiurban,N\\nLP002337,Female,No,0,Graduate,No,2995,0,60,360,1,Urban,Y\\nLP002341,Female,No,1,Graduate,No,2600,0,160,360,1,Urban,N\\nLP002342,Male,Yes,2,Graduate,Yes,1600,20000,239,360,1,Urban,N\\nLP002345,Male,Yes,0,Graduate,No,1025,2773,112,360,1,Rural,Y\\nLP002347,Male,Yes,0,Graduate,No,3246,1417,138,360,1,Semiurban,Y\\nLP002348,Male,Yes,0,Graduate,No,5829,0,138,360,1,Rural,Y\\nLP002357,Female,No,0,Not Graduate,No,2720,0,80,,0,Urban,N\\nLP002361,Male,Yes,0,Graduate,No,1820,1719,100,360,1,Urban,Y\\nLP002362,Male,Yes,1,Graduate,No,7250,1667,110,,0,Urban,N\\nLP002364,Male,Yes,0,Graduate,No,14880,0,96,360,1,Semiurban,Y\\nLP002366,Male,Yes,0,Graduate,No,2666,4300,121,360,1,Rural,Y\\nLP002367,Female,No,1,Not Graduate,No,4606,0,81,360,1,Rural,N\\nLP002368,Male,Yes,2,Graduate,No,5935,0,133,360,1,Semiurban,Y\\nLP002369,Male,Yes,0,Graduate,No,2920,16.12000084,87,360,1,Rural,Y\\nLP002370,Male,No,0,Not Graduate,No,2717,0,60,180,1,Urban,Y\\nLP002377,Female,No,1,Graduate,Yes,8624,0,150,360,1,Semiurban,Y\\nLP002379,Male,No,0,Graduate,No,6500,0,105,360,0,Rural,N\\nLP002386,Male,No,0,Graduate,,12876,0,405,360,1,Semiurban,Y\\nLP002387,Male,Yes,0,Graduate,No,2425,2340,143,360,1,Semiurban,Y\\nLP002390,Male,No,0,Graduate,No,3750,0,100,360,1,Urban,Y\\nLP002393,Female,,,Graduate,No,10047,0,,240,1,Semiurban,Y\\nLP002398,Male,No,0,Graduate,No,1926,1851,50,360,1,Semiurban,Y\\nLP002401,Male,Yes,0,Graduate,No,2213,1125,,360,1,Urban,Y\\nLP002403,Male,No,0,Graduate,Yes,10416,0,187,360,0,Urban,N\\nLP002407,Female,Yes,0,Not Graduate,Yes,7142,0,138,360,1,Rural,Y\\nLP002408,Male,No,0,Graduate,No,3660,5064,187,360,1,Semiurban,Y\\nLP002409,Male,Yes,0,Graduate,No,7901,1833,180,360,1,Rural,Y\\nLP002418,Male,No,3+,Not Graduate,No,4707,1993,148,360,1,Semiurban,Y\\nLP002422,Male,No,1,Graduate,No,37719,0,152,360,1,Semiurban,Y\\nLP002424,Male,Yes,0,Graduate,No,7333,8333,175,300,,Rural,Y\\nLP002429,Male,Yes,1,Graduate,Yes,3466,1210,130,360,1,Rural,Y\\nLP002434,Male,Yes,2,Not Graduate,No,4652,0,110,360,1,Rural,Y\\nLP002435,Male,Yes,0,Graduate,,3539,1376,55,360,1,Rural,N\\nLP002443,Male,Yes,2,Graduate,No,3340,1710,150,360,0,Rural,N\\nLP002444,Male,No,1,Not Graduate,Yes,2769,1542,190,360,,Semiurban,N\\nLP002446,Male,Yes,2,Not Graduate,No,2309,1255,125,360,0,Rural,N\\nLP002447,Male,Yes,2,Not Graduate,No,1958,1456,60,300,,Urban,Y\\nLP002448,Male,Yes,0,Graduate,No,3948,1733,149,360,0,Rural,N\\nLP002449,Male,Yes,0,Graduate,No,2483,2466,90,180,0,Rural,Y\\nLP002453,Male,No,0,Graduate,Yes,7085,0,84,360,1,Semiurban,Y\\nLP002455,Male,Yes,2,Graduate,No,3859,0,96,360,1,Semiurban,Y\\nLP002459,Male,Yes,0,Graduate,No,4301,0,118,360,1,Urban,Y\\nLP002467,Male,Yes,0,Graduate,No,3708,2569,173,360,1,Urban,N\\nLP002472,Male,No,2,Graduate,No,4354,0,136,360,1,Rural,Y\\nLP002473,Male,Yes,0,Graduate,No,8334,0,160,360,1,Semiurban,N\\nLP002478,,Yes,0,Graduate,Yes,2083,4083,160,360,,Semiurban,Y\\nLP002484,Male,Yes,3+,Graduate,No,7740,0,128,180,1,Urban,Y\\nLP002487,Male,Yes,0,Graduate,No,3015,2188,153,360,1,Rural,Y\\nLP002489,Female,No,1,Not Graduate,,5191,0,132,360,1,Semiurban,Y\\nLP002493,Male,No,0,Graduate,No,4166,0,98,360,0,Semiurban,N\\nLP002494,Male,No,0,Graduate,No,6000,0,140,360,1,Rural,Y\\nLP002500,Male,Yes,3+,Not Graduate,No,2947,1664,70,180,0,Urban,N\\nLP002501,,Yes,0,Graduate,No,16692,0,110,360,1,Semiurban,Y\\nLP002502,Female,Yes,2,Not Graduate,,210,2917,98,360,1,Semiurban,Y\\nLP002505,Male,Yes,0,Graduate,No,4333,2451,110,360,1,Urban,N\\nLP002515,Male,Yes,1,Graduate,Yes,3450,2079,162,360,1,Semiurban,Y\\nLP002517,Male,Yes,1,Not Graduate,No,2653,1500,113,180,0,Rural,N\\nLP002519,Male,Yes,3+,Graduate,No,4691,0,100,360,1,Semiurban,Y\\nLP002522,Female,No,0,Graduate,Yes,2500,0,93,360,,Urban,Y\\nLP002524,Male,No,2,Graduate,No,5532,4648,162,360,1,Rural,Y\\nLP002527,Male,Yes,2,Graduate,Yes,16525,1014,150,360,1,Rural,Y\\nLP002529,Male,Yes,2,Graduate,No,6700,1750,230,300,1,Semiurban,Y\\nLP002530,,Yes,2,Graduate,No,2873,1872,132,360,0,Semiurban,N\\nLP002531,Male,Yes,1,Graduate,Yes,16667,2250,86,360,1,Semiurban,Y\\nLP002533,Male,Yes,2,Graduate,No,2947,1603,,360,1,Urban,N\\nLP002534,Female,No,0,Not Graduate,No,4350,0,154,360,1,Rural,Y\\nLP002536,Male,Yes,3+,Not Graduate,No,3095,0,113,360,1,Rural,Y\\nLP002537,Male,Yes,0,Graduate,No,2083,3150,128,360,1,Semiurban,Y\\nLP002541,Male,Yes,0,Graduate,No,10833,0,234,360,1,Semiurban,Y\\nLP002543,Male,Yes,2,Graduate,No,8333,0,246,360,1,Semiurban,Y\\nLP002544,Male,Yes,1,Not Graduate,No,1958,2436,131,360,1,Rural,Y\\nLP002545,Male,No,2,Graduate,No,3547,0,80,360,0,Rural,N\\nLP002547,Male,Yes,1,Graduate,No,18333,0,500,360,1,Urban,N\\nLP002555,Male,Yes,2,Graduate,Yes,4583,2083,160,360,1,Semiurban,Y\\nLP002556,Male,No,0,Graduate,No,2435,0,75,360,1,Urban,N\\nLP002560,Male,No,0,Not Graduate,No,2699,2785,96,360,,Semiurban,Y\\nLP002562,Male,Yes,1,Not Graduate,No,5333,1131,186,360,,Urban,Y\\nLP002571,Male,No,0,Not Graduate,No,3691,0,110,360,1,Rural,Y\\nLP002582,Female,No,0,Not Graduate,Yes,17263,0,225,360,1,Semiurban,Y\\nLP002585,Male,Yes,0,Graduate,No,3597,2157,119,360,0,Rural,N\\nLP002586,Female,Yes,1,Graduate,No,3326,913,105,84,1,Semiurban,Y\\nLP002587,Male,Yes,0,Not Graduate,No,2600,1700,107,360,1,Rural,Y\\nLP002588,Male,Yes,0,Graduate,No,4625,2857,111,12,,Urban,Y\\nLP002600,Male,Yes,1,Graduate,Yes,2895,0,95,360,1,Semiurban,Y\\nLP002602,Male,No,0,Graduate,No,6283,4416,209,360,0,Rural,N\\nLP002603,Female,No,0,Graduate,No,645,3683,113,480,1,Rural,Y\\nLP002606,Female,No,0,Graduate,No,3159,0,100,360,1,Semiurban,Y\\nLP002615,Male,Yes,2,Graduate,No,4865,5624,208,360,1,Semiurban,Y\\nLP002618,Male,Yes,1,Not Graduate,No,4050,5302,138,360,,Rural,N\\nLP002619,Male,Yes,0,Not Graduate,No,3814,1483,124,300,1,Semiurban,Y\\nLP002622,Male,Yes,2,Graduate,No,3510,4416,243,360,1,Rural,Y\\nLP002624,Male,Yes,0,Graduate,No,20833,6667,480,360,,Urban,Y\\nLP002625,,No,0,Graduate,No,3583,0,96,360,1,Urban,N\\nLP002626,Male,Yes,0,Graduate,Yes,2479,3013,188,360,1,Urban,Y\\nLP002634,Female,No,1,Graduate,No,13262,0,40,360,1,Urban,Y\\nLP002637,Male,No,0,Not Graduate,No,3598,1287,100,360,1,Rural,N\\nLP002640,Male,Yes,1,Graduate,No,6065,2004,250,360,1,Semiurban,Y\\nLP002643,Male,Yes,2,Graduate,No,3283,2035,148,360,1,Urban,Y\\nLP002648,Male,Yes,0,Graduate,No,2130,6666,70,180,1,Semiurban,N\\nLP002652,Male,No,0,Graduate,No,5815,3666,311,360,1,Rural,N\\nLP002659,Male,Yes,3+,Graduate,No,3466,3428,150,360,1,Rural,Y\\nLP002670,Female,Yes,2,Graduate,No,2031,1632,113,480,1,Semiurban,Y\\nLP002682,Male,Yes,,Not Graduate,No,3074,1800,123,360,0,Semiurban,N\\nLP002683,Male,No,0,Graduate,No,4683,1915,185,360,1,Semiurban,N\\nLP002684,Female,No,0,Not Graduate,No,3400,0,95,360,1,Rural,N\\nLP002689,Male,Yes,2,Not Graduate,No,2192,1742,45,360,1,Semiurban,Y\\nLP002690,Male,No,0,Graduate,No,2500,0,55,360,1,Semiurban,Y\\nLP002692,Male,Yes,3+,Graduate,Yes,5677,1424,100,360,1,Rural,Y\\nLP002693,Male,Yes,2,Graduate,Yes,7948,7166,480,360,1,Rural,Y\\nLP002697,Male,No,0,Graduate,No,4680,2087,,360,1,Semiurban,N\\nLP002699,Male,Yes,2,Graduate,Yes,17500,0,400,360,1,Rural,Y\\nLP002705,Male,Yes,0,Graduate,No,3775,0,110,360,1,Semiurban,Y\\nLP002706,Male,Yes,1,Not Graduate,No,5285,1430,161,360,0,Semiurban,Y\\nLP002714,Male,No,1,Not Graduate,No,2679,1302,94,360,1,Semiurban,Y\\nLP002716,Male,No,0,Not Graduate,No,6783,0,130,360,1,Semiurban,Y\\nLP002717,Male,Yes,0,Graduate,No,1025,5500,216,360,,Rural,Y\\nLP002720,Male,Yes,3+,Graduate,No,4281,0,100,360,1,Urban,Y\\nLP002723,Male,No,2,Graduate,No,3588,0,110,360,0,Rural,N\\nLP002729,Male,No,1,Graduate,No,11250,0,196,360,,Semiurban,N\\nLP002731,Female,No,0,Not Graduate,Yes,18165,0,125,360,1,Urban,Y\\nLP002732,Male,No,0,Not Graduate,,2550,2042,126,360,1,Rural,Y\\nLP002734,Male,Yes,0,Graduate,No,6133,3906,324,360,1,Urban,Y\\nLP002738,Male,No,2,Graduate,No,3617,0,107,360,1,Semiurban,Y\\nLP002739,Male,Yes,0,Not Graduate,No,2917,536,66,360,1,Rural,N\\nLP002740,Male,Yes,3+,Graduate,No,6417,0,157,180,1,Rural,Y\\nLP002741,Female,Yes,1,Graduate,No,4608,2845,140,180,1,Semiurban,Y\\nLP002743,Female,No,0,Graduate,No,2138,0,99,360,0,Semiurban,N\\nLP002753,Female,No,1,Graduate,,3652,0,95,360,1,Semiurban,Y\\nLP002755,Male,Yes,1,Not Graduate,No,2239,2524,128,360,1,Urban,Y\\nLP002757,Female,Yes,0,Not Graduate,No,3017,663,102,360,,Semiurban,Y\\nLP002767,Male,Yes,0,Graduate,No,2768,1950,155,360,1,Rural,Y\\nLP002768,Male,No,0,Not Graduate,No,3358,0,80,36,1,Semiurban,N\\nLP002772,Male,No,0,Graduate,No,2526,1783,145,360,1,Rural,Y\\nLP002776,Female,No,0,Graduate,No,5000,0,103,360,0,Semiurban,N\\nLP002777,Male,Yes,0,Graduate,No,2785,2016,110,360,1,Rural,Y\\nLP002778,Male,Yes,2,Graduate,Yes,6633,0,,360,0,Rural,N\\nLP002784,Male,Yes,1,Not Graduate,No,2492,2375,,360,1,Rural,Y\\nLP002785,Male,Yes,1,Graduate,No,3333,3250,158,360,1,Urban,Y\\nLP002788,Male,Yes,0,Not Graduate,No,2454,2333,181,360,0,Urban,N\\nLP002789,Male,Yes,0,Graduate,No,3593,4266,132,180,0,Rural,N\\nLP002792,Male,Yes,1,Graduate,No,5468,1032,26,360,1,Semiurban,Y\\nLP002794,Female,No,0,Graduate,No,2667,1625,84,360,,Urban,Y\\nLP002795,Male,Yes,3+,Graduate,Yes,10139,0,260,360,1,Semiurban,Y\\nLP002798,Male,Yes,0,Graduate,No,3887,2669,162,360,1,Semiurban,Y\\nLP002804,Female,Yes,0,Graduate,No,4180,2306,182,360,1,Semiurban,Y\\nLP002807,Male,Yes,2,Not Graduate,No,3675,242,108,360,1,Semiurban,Y\\nLP002813,Female,Yes,1,Graduate,Yes,19484,0,600,360,1,Semiurban,Y\\nLP002820,Male,Yes,0,Graduate,No,5923,2054,211,360,1,Rural,Y\\nLP002821,Male,No,0,Not Graduate,Yes,5800,0,132,360,1,Semiurban,Y\\nLP002832,Male,Yes,2,Graduate,No,8799,0,258,360,0,Urban,N\\nLP002833,Male,Yes,0,Not Graduate,No,4467,0,120,360,,Rural,Y\\nLP002836,Male,No,0,Graduate,No,3333,0,70,360,1,Urban,Y\\nLP002837,Male,Yes,3+,Graduate,No,3400,2500,123,360,0,Rural,N\\nLP002840,Female,No,0,Graduate,No,2378,0,9,360,1,Urban,N\\nLP002841,Male,Yes,0,Graduate,No,3166,2064,104,360,0,Urban,N\\nLP002842,Male,Yes,1,Graduate,No,3417,1750,186,360,1,Urban,Y\\nLP002847,Male,Yes,,Graduate,No,5116,1451,165,360,0,Urban,N\\nLP002855,Male,Yes,2,Graduate,No,16666,0,275,360,1,Urban,Y\\nLP002862,Male,Yes,2,Not Graduate,No,6125,1625,187,480,1,Semiurban,N\\nLP002863,Male,Yes,3+,Graduate,No,6406,0,150,360,1,Semiurban,N\\nLP002868,Male,Yes,2,Graduate,No,3159,461,108,84,1,Urban,Y\\nLP002872,,Yes,0,Graduate,No,3087,2210,136,360,0,Semiurban,N\\nLP002874,Male,No,0,Graduate,No,3229,2739,110,360,1,Urban,Y\\nLP002877,Male,Yes,1,Graduate,No,1782,2232,107,360,1,Rural,Y\\nLP002888,Male,No,0,Graduate,,3182,2917,161,360,1,Urban,Y\\nLP002892,Male,Yes,2,Graduate,No,6540,0,205,360,1,Semiurban,Y\\nLP002893,Male,No,0,Graduate,No,1836,33837,90,360,1,Urban,N\\nLP002894,Female,Yes,0,Graduate,No,3166,0,36,360,1,Semiurban,Y\\nLP002898,Male,Yes,1,Graduate,No,1880,0,61,360,,Rural,N\\nLP002911,Male,Yes,1,Graduate,No,2787,1917,146,360,0,Rural,N\\nLP002912,Male,Yes,1,Graduate,No,4283,3000,172,84,1,Rural,N\\nLP002916,Male,Yes,0,Graduate,No,2297,1522,104,360,1,Urban,Y\\nLP002917,Female,No,0,Not Graduate,No,2165,0,70,360,1,Semiurban,Y\\nLP002925,,No,0,Graduate,No,4750,0,94,360,1,Semiurban,Y\\nLP002926,Male,Yes,2,Graduate,Yes,2726,0,106,360,0,Semiurban,N\\nLP002928,Male,Yes,0,Graduate,No,3000,3416,56,180,1,Semiurban,Y\\nLP002931,Male,Yes,2,Graduate,Yes,6000,0,205,240,1,Semiurban,N\\nLP002933,,No,3+,Graduate,Yes,9357,0,292,360,1,Semiurban,Y\\nLP002936,Male,Yes,0,Graduate,No,3859,3300,142,180,1,Rural,Y\\nLP002938,Male,Yes,0,Graduate,Yes,16120,0,260,360,1,Urban,Y\\nLP002940,Male,No,0,Not Graduate,No,3833,0,110,360,1,Rural,Y\\nLP002941,Male,Yes,2,Not Graduate,Yes,6383,1000,187,360,1,Rural,N\\nLP002943,Male,No,,Graduate,No,2987,0,88,360,0,Semiurban,N\\nLP002945,Male,Yes,0,Graduate,Yes,9963,0,180,360,1,Rural,Y\\nLP002948,Male,Yes,2,Graduate,No,5780,0,192,360,1,Urban,Y\\nLP002949,Female,No,3+,Graduate,,416,41667,350,180,,Urban,N\\nLP002950,Male,Yes,0,Not Graduate,,2894,2792,155,360,1,Rural,Y\\nLP002953,Male,Yes,3+,Graduate,No,5703,0,128,360,1,Urban,Y\\nLP002958,Male,No,0,Graduate,No,3676,4301,172,360,1,Rural,Y\\nLP002959,Female,Yes,1,Graduate,No,12000,0,496,360,1,Semiurban,Y\\nLP002960,Male,Yes,0,Not Graduate,No,2400,3800,,180,1,Urban,N\\nLP002961,Male,Yes,1,Graduate,No,3400,2500,173,360,1,Semiurban,Y\\nLP002964,Male,Yes,2,Not Graduate,No,3987,1411,157,360,1,Rural,Y\\nLP002974,Male,Yes,0,Graduate,No,3232,1950,108,360,1,Rural,Y\\nLP002978,Female,No,0,Graduate,No,2900,0,71,360,1,Rural,Y\\nLP002979,Male,Yes,3+,Graduate,No,4106,0,40,180,1,Rural,Y\\nLP002983,Male,Yes,1,Graduate,No,8072,240,253,360,1,Urban,Y\\nLP002984,Male,Yes,2,Graduate,No,7583,0,187,360,1,Urban,Y\\nLP002990,Female,No,0,Graduate,Yes,4583,0,133,360,0,Semiurban,N\\n'}\n"
          ],
          "name": "stdout"
        }
      ]
    },
    {
      "cell_type": "code",
      "metadata": {
        "id": "92uLG2C7kgyV",
        "colab_type": "code",
        "colab": {}
      },
      "source": [
        ""
      ],
      "execution_count": 0,
      "outputs": []
    },
    {
      "cell_type": "code",
      "metadata": {
        "id": "q3iuAuU3i5fd",
        "colab_type": "code",
        "colab": {}
      },
      "source": [
        "df_train = pd.read_csv('/content/train_u6lujuX_CVtuZ9i.csv')\n",
        "df_test = pd.read_csv('/content/test_Y3wMUE5_7gLdaTN.csv')"
      ],
      "execution_count": 0,
      "outputs": []
    },
    {
      "cell_type": "code",
      "metadata": {
        "id": "_aTZpPJzkxaO",
        "colab_type": "code",
        "colab": {
          "base_uri": "https://localhost:8080/",
          "height": 33
        },
        "outputId": "30ce11ba-ef48-4bdd-ef32-4979d79cc366"
      },
      "source": [
        "df_train.shape"
      ],
      "execution_count": 11,
      "outputs": [
        {
          "output_type": "execute_result",
          "data": {
            "text/plain": [
              "(614, 13)"
            ]
          },
          "metadata": {
            "tags": []
          },
          "execution_count": 11
        }
      ]
    },
    {
      "cell_type": "code",
      "metadata": {
        "id": "KQy8bAMok4K0",
        "colab_type": "code",
        "colab": {
          "base_uri": "https://localhost:8080/",
          "height": 33
        },
        "outputId": "88509e70-c259-4184-8cb7-e0aaa5767eb7"
      },
      "source": [
        "df_test.shape"
      ],
      "execution_count": 12,
      "outputs": [
        {
          "output_type": "execute_result",
          "data": {
            "text/plain": [
              "(367, 12)"
            ]
          },
          "metadata": {
            "tags": []
          },
          "execution_count": 12
        }
      ]
    },
    {
      "cell_type": "code",
      "metadata": {
        "id": "DqeOpR1Ok9d5",
        "colab_type": "code",
        "colab": {
          "base_uri": "https://localhost:8080/",
          "height": 198
        },
        "outputId": "4f876cb0-417e-43d8-e81b-a73e961db21c"
      },
      "source": [
        "df_train.head()"
      ],
      "execution_count": 13,
      "outputs": [
        {
          "output_type": "execute_result",
          "data": {
            "text/html": [
              "<div>\n",
              "<style scoped>\n",
              "    .dataframe tbody tr th:only-of-type {\n",
              "        vertical-align: middle;\n",
              "    }\n",
              "\n",
              "    .dataframe tbody tr th {\n",
              "        vertical-align: top;\n",
              "    }\n",
              "\n",
              "    .dataframe thead th {\n",
              "        text-align: right;\n",
              "    }\n",
              "</style>\n",
              "<table border=\"1\" class=\"dataframe\">\n",
              "  <thead>\n",
              "    <tr style=\"text-align: right;\">\n",
              "      <th></th>\n",
              "      <th>Loan_ID</th>\n",
              "      <th>Gender</th>\n",
              "      <th>Married</th>\n",
              "      <th>Dependents</th>\n",
              "      <th>Education</th>\n",
              "      <th>Self_Employed</th>\n",
              "      <th>ApplicantIncome</th>\n",
              "      <th>CoapplicantIncome</th>\n",
              "      <th>LoanAmount</th>\n",
              "      <th>Loan_Amount_Term</th>\n",
              "      <th>Credit_History</th>\n",
              "      <th>Property_Area</th>\n",
              "      <th>Loan_Status</th>\n",
              "    </tr>\n",
              "  </thead>\n",
              "  <tbody>\n",
              "    <tr>\n",
              "      <th>0</th>\n",
              "      <td>LP001002</td>\n",
              "      <td>Male</td>\n",
              "      <td>No</td>\n",
              "      <td>0</td>\n",
              "      <td>Graduate</td>\n",
              "      <td>No</td>\n",
              "      <td>5849</td>\n",
              "      <td>0.0</td>\n",
              "      <td>NaN</td>\n",
              "      <td>360.0</td>\n",
              "      <td>1.0</td>\n",
              "      <td>Urban</td>\n",
              "      <td>Y</td>\n",
              "    </tr>\n",
              "    <tr>\n",
              "      <th>1</th>\n",
              "      <td>LP001003</td>\n",
              "      <td>Male</td>\n",
              "      <td>Yes</td>\n",
              "      <td>1</td>\n",
              "      <td>Graduate</td>\n",
              "      <td>No</td>\n",
              "      <td>4583</td>\n",
              "      <td>1508.0</td>\n",
              "      <td>128.0</td>\n",
              "      <td>360.0</td>\n",
              "      <td>1.0</td>\n",
              "      <td>Rural</td>\n",
              "      <td>N</td>\n",
              "    </tr>\n",
              "    <tr>\n",
              "      <th>2</th>\n",
              "      <td>LP001005</td>\n",
              "      <td>Male</td>\n",
              "      <td>Yes</td>\n",
              "      <td>0</td>\n",
              "      <td>Graduate</td>\n",
              "      <td>Yes</td>\n",
              "      <td>3000</td>\n",
              "      <td>0.0</td>\n",
              "      <td>66.0</td>\n",
              "      <td>360.0</td>\n",
              "      <td>1.0</td>\n",
              "      <td>Urban</td>\n",
              "      <td>Y</td>\n",
              "    </tr>\n",
              "    <tr>\n",
              "      <th>3</th>\n",
              "      <td>LP001006</td>\n",
              "      <td>Male</td>\n",
              "      <td>Yes</td>\n",
              "      <td>0</td>\n",
              "      <td>Not Graduate</td>\n",
              "      <td>No</td>\n",
              "      <td>2583</td>\n",
              "      <td>2358.0</td>\n",
              "      <td>120.0</td>\n",
              "      <td>360.0</td>\n",
              "      <td>1.0</td>\n",
              "      <td>Urban</td>\n",
              "      <td>Y</td>\n",
              "    </tr>\n",
              "    <tr>\n",
              "      <th>4</th>\n",
              "      <td>LP001008</td>\n",
              "      <td>Male</td>\n",
              "      <td>No</td>\n",
              "      <td>0</td>\n",
              "      <td>Graduate</td>\n",
              "      <td>No</td>\n",
              "      <td>6000</td>\n",
              "      <td>0.0</td>\n",
              "      <td>141.0</td>\n",
              "      <td>360.0</td>\n",
              "      <td>1.0</td>\n",
              "      <td>Urban</td>\n",
              "      <td>Y</td>\n",
              "    </tr>\n",
              "  </tbody>\n",
              "</table>\n",
              "</div>"
            ],
            "text/plain": [
              "    Loan_ID Gender Married  ... Credit_History Property_Area Loan_Status\n",
              "0  LP001002   Male      No  ...            1.0         Urban           Y\n",
              "1  LP001003   Male     Yes  ...            1.0         Rural           N\n",
              "2  LP001005   Male     Yes  ...            1.0         Urban           Y\n",
              "3  LP001006   Male     Yes  ...            1.0         Urban           Y\n",
              "4  LP001008   Male      No  ...            1.0         Urban           Y\n",
              "\n",
              "[5 rows x 13 columns]"
            ]
          },
          "metadata": {
            "tags": []
          },
          "execution_count": 13
        }
      ]
    },
    {
      "cell_type": "markdown",
      "metadata": {
        "id": "H5HBmodTlHww",
        "colab_type": "text"
      },
      "source": [
        "**Missing Values:** Check where there are missing values and fix them appropriately"
      ]
    },
    {
      "cell_type": "code",
      "metadata": {
        "id": "1NvaeX2qlSD5",
        "colab_type": "code",
        "colab": {
          "base_uri": "https://localhost:8080/",
          "height": 438
        },
        "outputId": "2e1a3a00-ad93-4108-edf3-d4c43a65e6cf"
      },
      "source": [
        "total = df_train.isnull().sum().sort_values(ascending=False)\n",
        "percent = (df_train.isnull().sum()/df_train.isnull().count()).sort_values(ascending=False)\n",
        "missing_data = pd.concat([total, percent], axis=1, keys=['Total', 'Percent'])\n",
        "missing_data.head(20)"
      ],
      "execution_count": 15,
      "outputs": [
        {
          "output_type": "execute_result",
          "data": {
            "text/html": [
              "<div>\n",
              "<style scoped>\n",
              "    .dataframe tbody tr th:only-of-type {\n",
              "        vertical-align: middle;\n",
              "    }\n",
              "\n",
              "    .dataframe tbody tr th {\n",
              "        vertical-align: top;\n",
              "    }\n",
              "\n",
              "    .dataframe thead th {\n",
              "        text-align: right;\n",
              "    }\n",
              "</style>\n",
              "<table border=\"1\" class=\"dataframe\">\n",
              "  <thead>\n",
              "    <tr style=\"text-align: right;\">\n",
              "      <th></th>\n",
              "      <th>Total</th>\n",
              "      <th>Percent</th>\n",
              "    </tr>\n",
              "  </thead>\n",
              "  <tbody>\n",
              "    <tr>\n",
              "      <th>Credit_History</th>\n",
              "      <td>50</td>\n",
              "      <td>0.081433</td>\n",
              "    </tr>\n",
              "    <tr>\n",
              "      <th>Self_Employed</th>\n",
              "      <td>32</td>\n",
              "      <td>0.052117</td>\n",
              "    </tr>\n",
              "    <tr>\n",
              "      <th>LoanAmount</th>\n",
              "      <td>22</td>\n",
              "      <td>0.035831</td>\n",
              "    </tr>\n",
              "    <tr>\n",
              "      <th>Dependents</th>\n",
              "      <td>15</td>\n",
              "      <td>0.024430</td>\n",
              "    </tr>\n",
              "    <tr>\n",
              "      <th>Loan_Amount_Term</th>\n",
              "      <td>14</td>\n",
              "      <td>0.022801</td>\n",
              "    </tr>\n",
              "    <tr>\n",
              "      <th>Gender</th>\n",
              "      <td>13</td>\n",
              "      <td>0.021173</td>\n",
              "    </tr>\n",
              "    <tr>\n",
              "      <th>Married</th>\n",
              "      <td>3</td>\n",
              "      <td>0.004886</td>\n",
              "    </tr>\n",
              "    <tr>\n",
              "      <th>Loan_Status</th>\n",
              "      <td>0</td>\n",
              "      <td>0.000000</td>\n",
              "    </tr>\n",
              "    <tr>\n",
              "      <th>Property_Area</th>\n",
              "      <td>0</td>\n",
              "      <td>0.000000</td>\n",
              "    </tr>\n",
              "    <tr>\n",
              "      <th>CoapplicantIncome</th>\n",
              "      <td>0</td>\n",
              "      <td>0.000000</td>\n",
              "    </tr>\n",
              "    <tr>\n",
              "      <th>ApplicantIncome</th>\n",
              "      <td>0</td>\n",
              "      <td>0.000000</td>\n",
              "    </tr>\n",
              "    <tr>\n",
              "      <th>Education</th>\n",
              "      <td>0</td>\n",
              "      <td>0.000000</td>\n",
              "    </tr>\n",
              "    <tr>\n",
              "      <th>Loan_ID</th>\n",
              "      <td>0</td>\n",
              "      <td>0.000000</td>\n",
              "    </tr>\n",
              "  </tbody>\n",
              "</table>\n",
              "</div>"
            ],
            "text/plain": [
              "                   Total   Percent\n",
              "Credit_History        50  0.081433\n",
              "Self_Employed         32  0.052117\n",
              "LoanAmount            22  0.035831\n",
              "Dependents            15  0.024430\n",
              "Loan_Amount_Term      14  0.022801\n",
              "Gender                13  0.021173\n",
              "Married                3  0.004886\n",
              "Loan_Status            0  0.000000\n",
              "Property_Area          0  0.000000\n",
              "CoapplicantIncome      0  0.000000\n",
              "ApplicantIncome        0  0.000000\n",
              "Education              0  0.000000\n",
              "Loan_ID                0  0.000000"
            ]
          },
          "metadata": {
            "tags": []
          },
          "execution_count": 15
        }
      ]
    },
    {
      "cell_type": "markdown",
      "metadata": {
        "id": "Qv5kWPN4liuz",
        "colab_type": "text"
      },
      "source": [
        ""
      ]
    },
    {
      "cell_type": "markdown",
      "metadata": {
        "id": "4XP6v8gQli1s",
        "colab_type": "text"
      },
      "source": [
        "# Fill missing values"
      ]
    },
    {
      "cell_type": "code",
      "metadata": {
        "id": "FZ2NYbROlnJL",
        "colab_type": "code",
        "colab": {}
      },
      "source": [
        "df_train['Gender'] = df_train['Gender'].fillna(\n",
        "df_train['Gender'].dropna().mode().values[0] )\n",
        "df_train['Married'] = df_train['Married'].fillna(\n",
        "df_train['Married'].dropna().mode().values[0] )\n",
        "df_train['Dependents'] = df_train['Dependents'].fillna(\n",
        "df_train['Dependents'].dropna().mode().values[0] )\n",
        "df_train['Self_Employed'] = df_train['Self_Employed'].fillna(\n",
        "df_train['Self_Employed'].dropna().mode().values[0] )\n",
        "df_train['LoanAmount'] = df_train['LoanAmount'].fillna(\n",
        "df_train['LoanAmount'].dropna().median() )\n",
        "df_train['Loan_Amount_Term'] = df_train['Loan_Amount_Term'].fillna(\n",
        "df_train['Loan_Amount_Term'].dropna().mode().values[0] )\n",
        "df_train['Credit_History'] = df_train['Credit_History'].fillna(\n",
        "df_train['Credit_History'].dropna().mode().values[0] )"
      ],
      "execution_count": 0,
      "outputs": []
    },
    {
      "cell_type": "markdown",
      "metadata": {
        "id": "ZQ8ZyrYDmFIS",
        "colab_type": "text"
      },
      "source": [
        "# Encoding to numeric data; getting ready for training"
      ]
    },
    {
      "cell_type": "code",
      "metadata": {
        "id": "A4japdmLmVdm",
        "colab_type": "code",
        "colab": {}
      },
      "source": [
        "code_numeric = {'Male': 1, 'Female': 2,\n",
        "'Yes': 1, 'No': 2,\n",
        "'Graduate': 1, 'Not Graduate': 2,\n",
        "'Urban': 3, 'Semiurban': 2,'Rural': 1,\n",
        "'Y': 1, 'N': 0,\n",
        "'3+': 3}\n",
        "\n",
        "\n",
        "df_train = df_train.applymap(lambda s: code_numeric.get(s) if s in code_numeric else s)\n",
        "df_test = df_test.applymap(lambda s: code_numeric.get(s) if s in code_numeric else s)\n",
        "#drop the uniques loan id\n",
        "df_train.drop('Loan_ID', axis = 1, inplace = True)"
      ],
      "execution_count": 0,
      "outputs": []
    },
    {
      "cell_type": "code",
      "metadata": {
        "id": "-0hTvV6LnX6Z",
        "colab_type": "code",
        "colab": {}
      },
      "source": [
        "# Oops! need to convert 'Dependents' feature to numeric using pd.to_numeric\n",
        "\n",
        "Dependents_ = pd.to_numeric(df_train.Dependents)\n",
        "Dependents__ = pd.to_numeric(df_test.Dependents)\n",
        "df_train.drop(['Dependents'], axis = 1, inplace = True)\n",
        "df_test.drop(['Dependents'], axis = 1, inplace = True)\n",
        "df_train = pd.concat([df_train, Dependents_], axis = 1)\n",
        "df_test = pd.concat([df_test, Dependents__], axis = 1)"
      ],
      "execution_count": 0,
      "outputs": []
    },
    {
      "cell_type": "code",
      "metadata": {
        "id": "TT5MhCp1nk9g",
        "colab_type": "code",
        "colab": {
          "base_uri": "https://localhost:8080/",
          "height": 372
        },
        "outputId": "1cee1781-f6c6-4b62-d94a-562bfc901027"
      },
      "source": [
        "sns.heatmap(df_train.corr())"
      ],
      "execution_count": 21,
      "outputs": [
        {
          "output_type": "execute_result",
          "data": {
            "text/plain": [
              "<matplotlib.axes._subplots.AxesSubplot at 0x7f1aca39cc18>"
            ]
          },
          "metadata": {
            "tags": []
          },
          "execution_count": 21
        },
        {
          "output_type": "display_data",
          "data": {
            "image/png": "[encoded data removed]",
            "text/plain": [
              "<Figure size 432x288 with 2 Axes>"
            ]
          },
          "metadata": {
            "tags": [],
            "needs_background": "light"
          }
        }
      ]
    },
    {
      "cell_type": "markdown",
      "metadata": {
        "id": "QG2V0eBcnyHu",
        "colab_type": "text"
      },
      "source": [
        "# Separating Target from the feature for training"
      ]
    },
    {
      "cell_type": "code",
      "metadata": {
        "id": "ReJBIRIGns0S",
        "colab_type": "code",
        "colab": {}
      },
      "source": [
        "y = df_train['Loan_Status']\n",
        "X = df_train.drop('Loan_Status', axis = 1)\n",
        "\n",
        "from sklearn.model_selection import train_test_split\n",
        "from sklearn.metrics import f1_score\n",
        "from sklearn.model_selection import GridSearchCV\n",
        "from sklearn.tree import DecisionTreeClassifier\n",
        "from sklearn.linear_model import LogisticRegression\n",
        "from sklearn.ensemble import RandomForestClassifier\n",
        "X_train, X_test, y_train, y_test = train_test_split(X, y, test_size=0.20, random_state=0)"
      ],
      "execution_count": 0,
      "outputs": []
    },
    {
      "cell_type": "code",
      "metadata": {
        "id": "tSQLd1O7oC-a",
        "colab_type": "code",
        "colab": {
          "base_uri": "https://localhost:8080/",
          "height": 234
        },
        "outputId": "83d7867b-af98-45eb-b1a3-a701c267befc"
      },
      "source": [
        "# Using Logistic Regression\n",
        "\n",
        "model = LogisticRegression()\n",
        "model.fit(X_train, y_train)\n",
        "print(type(X_test))\n",
        "ypred = model.predict(X_test)\n",
        "\n",
        "print(ypred)"
      ],
      "execution_count": 31,
      "outputs": [
        {
          "output_type": "stream",
          "text": [
            "<class 'pandas.core.frame.DataFrame'>\n",
            "[1 1 1 1 1 0 1 1 0 1 1 1 1 1 1 1 1 1 1 0 0 1 1 1 1 1 1 1 0 0 1 1 1 1 1 0 1\n",
            " 1 1 1 1 0 1 1 1 1 1 1 1 1 1 1 1 1 1 1 1 1 1 1 0 1 1 0 1 1 1 1 1 1 1 1 1 1\n",
            " 1 1 0 1 1 0 1 1 1 1 1 1 1 1 1 1 1 1 1 0 1 0 1 1 1 1 1 1 1 1 1 1 1 1 1 1 1\n",
            " 1 1 1 0 0 1 1 1 1 1 0 1]\n"
          ],
          "name": "stdout"
        },
        {
          "output_type": "stream",
          "text": [
            "/usr/local/lib/python3.6/dist-packages/sklearn/linear_model/_logistic.py:940: ConvergenceWarning: lbfgs failed to converge (status=1):\n",
            "STOP: TOTAL NO. of ITERATIONS REACHED LIMIT.\n",
            "\n",
            "Increase the number of iterations (max_iter) or scale the data as shown in:\n",
            "    https://scikit-learn.org/stable/modules/preprocessing.html\n",
            "Please also refer to the documentation for alternative solver options:\n",
            "    https://scikit-learn.org/stable/modules/linear_model.html#logistic-regression\n",
            "  extra_warning_msg=_LOGISTIC_SOLVER_CONVERGENCE_MSG)\n"
          ],
          "name": "stderr"
        }
      ]
    },
    {
      "cell_type": "code",
      "metadata": {
        "id": "hZ7qhDo2od4U",
        "colab_type": "code",
        "colab": {
          "base_uri": "https://localhost:8080/",
          "height": 33
        },
        "outputId": "9c31501b-bbe8-4189-a820-f3ea1ca865e1"
      },
      "source": [
        "accuracy = f1_score(y_test, ypred)\n",
        "accuracy"
      ],
      "execution_count": 25,
      "outputs": [
        {
          "output_type": "execute_result",
          "data": {
            "text/plain": [
              "0.8979591836734695"
            ]
          },
          "metadata": {
            "tags": []
          },
          "execution_count": 25
        }
      ]
    },
    {
      "cell_type": "markdown",
      "metadata": {
        "id": "YBtyGTs8ooJu",
        "colab_type": "text"
      },
      "source": [
        "**Using Decesion Tree**"
      ]
    },
    {
      "cell_type": "code",
      "metadata": {
        "id": "xL3XHPNLot_y",
        "colab_type": "code",
        "colab": {
          "base_uri": "https://localhost:8080/",
          "height": 33
        },
        "outputId": "60bd7500-fc6d-470c-9aa6-b19cdd948b63"
      },
      "source": [
        "tree = DecisionTreeClassifier()\n",
        "tree.fit(X_train, y_train)\n",
        "ypred_tree = tree.predict(X_test)\n",
        "\n",
        "accuracy = f1_score(y_test, ypred_tree)\n",
        "accuracy"
      ],
      "execution_count": 26,
      "outputs": [
        {
          "output_type": "execute_result",
          "data": {
            "text/plain": [
              "0.7558139534883721"
            ]
          },
          "metadata": {
            "tags": []
          },
          "execution_count": 26
        }
      ]
    },
    {
      "cell_type": "markdown",
      "metadata": {
        "id": "qRoFicbApbJc",
        "colab_type": "text"
      },
      "source": [
        "# *Using Random Forest*"
      ]
    },
    {
      "cell_type": "code",
      "metadata": {
        "id": "4cfE-PqXpj3M",
        "colab_type": "code",
        "colab": {
          "base_uri": "https://localhost:8080/",
          "height": 33
        },
        "outputId": "6fd10c48-cbb2-4ac1-fbb2-eaa4d824f683"
      },
      "source": [
        "forest = RandomForestClassifier()\n",
        "forest.fit(X_train, y_train)\n",
        "ypred_forest = forest.predict(X_test)\n",
        "\n",
        "accuracy = f1_score(y_test, ypred_forest)\n",
        "accuracy"
      ],
      "execution_count": 27,
      "outputs": [
        {
          "output_type": "execute_result",
          "data": {
            "text/plain": [
              "0.8631578947368421"
            ]
          },
          "metadata": {
            "tags": []
          },
          "execution_count": 27
        }
      ]
    }
  ]
}